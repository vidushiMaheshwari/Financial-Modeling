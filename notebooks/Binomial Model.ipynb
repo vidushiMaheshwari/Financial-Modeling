{
 "cells": [
  {
   "cell_type": "code",
   "execution_count": 10,
   "id": "71621b75",
   "metadata": {},
   "outputs": [],
   "source": [
    "import numpy as np\n",
    "import matplotlib.pyplot as plt\n",
    "import math"
   ]
  },
  {
   "cell_type": "code",
   "execution_count": 45,
   "id": "af86cf98",
   "metadata": {},
   "outputs": [],
   "source": [
    "'''\n",
    "Cox Rox Rubenstein (European & American)\n",
    "\n",
    "s - underlying asset price\n",
    "rf - risk free rate\n",
    "sigma - volataility\n",
    "K - strike price\n",
    "T - time for maturity\n",
    "n - number of steps\n",
    "'''\n",
    "\n",
    "def BinomialCRR(s, rf, sigma, K, T, q=0, n = 70, isEuropean=True): \n",
    "    delta = T / n    # single time step\n",
    "    discount = math.exp((rf - q)  * delta)\n",
    "    u = math.exp(sigma * math.sqrt(delta))\n",
    "    d = 1 / u\n",
    "    p = (discount - d) / (u - d)\n",
    "\n",
    "    pricing_tree = get_pricing_tree(u, d, s, n + 1)\n",
    "    if isEuropean:\n",
    "        option_price = get_european_option_tree(discount, p, n, K, pricing_tree)\n",
    "    else:\n",
    "        option_price = get_american_option_tree(discount, p, n, K, pricing_tree)\n",
    "\n",
    "    return option_price[0, 0]\n",
    "\n",
    "def get_pricing_tree(u, d, s, n=70):\n",
    "    pricing_tree = np.zeros((n, n))\n",
    "\n",
    "    for i in range(n):\n",
    "        pricing_tree[i, :i+1] = 1\n",
    "        pricing_tree[i, i+1:] = u**np.arange(1, n-i, 1)\n",
    "        pricing_tree[i] *= (d ** i)\n",
    "\n",
    "    pricing_tree = np.multiply(pricing_tree, s)\n",
    "    pricing_tree = np.triu(pricing_tree)\n",
    "\n",
    "    return pricing_tree\n",
    "\n",
    "def get_european_option_tree(discount, p, n, K, pricing_tree):\n",
    "    option_price = np.zeros((n, n))\n",
    "    option_price[:, n - 1] = np.maximum(pricing_tree[:, n - 1] - K, 0)\n",
    "\n",
    "    for i in range(n-1, 1, -1):\n",
    "        option_price[:, i-1] = option_price[:, i] * p + np.append(option_price[1: , i], 0) * (1 - p)\n",
    "        option_price[:, i-1] *= discount\n",
    "\n",
    "    return option_price\n",
    "\n",
    "def get_american_option_tree(discount, p, n, K, pricing_tree):\n",
    "    option_price = np.zeros((n, n))\n",
    "    option_price[:, n - 1] = np.maximum(pricing_tree[:, n - 1] - K, 0)\n",
    "\n",
    "    for i in range(n-1, 0, -1):\n",
    "        wait_out = option_price[:, i] * p + np.append(option_price[1: , i], 0) * (1 - p)\n",
    "        wait_out *= discount\n",
    "        exercise = option_price[:, i-1] - K\n",
    "        option_price[:, i-1] = np.maximum(wait_out, exercise)\n",
    "\n",
    "    return option_price "
   ]
  },
  {
   "cell_type": "code",
   "execution_count": 46,
   "id": "196f49e1",
   "metadata": {},
   "outputs": [],
   "source": [
    "'''John C Hull Example 18.3 '''\n"
   ]
  }
 ],
 "metadata": {
  "kernelspec": {
   "display_name": "Python 3 (ipykernel)",
   "language": "python",
   "name": "python3"
  },
  "language_info": {
   "codemirror_mode": {
    "name": "ipython",
    "version": 3
   },
   "file_extension": ".py",
   "mimetype": "text/x-python",
   "name": "python",
   "nbconvert_exporter": "python",
   "pygments_lexer": "ipython3",
   "version": "3.10.9"
  }
 },
 "nbformat": 4,
 "nbformat_minor": 5
}
